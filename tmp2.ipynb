{
 "cells": [
  {
   "cell_type": "code",
   "execution_count": 8,
   "metadata": {},
   "outputs": [
    {
     "name": "stdout",
     "output_type": "stream",
     "text": [
      "osqp warm starting: False\n",
      "[0. 0. 0. 0. 0. 0. 0. 0. 0. 0. 0. 0. 0. 0. 0. 0. 0. 0. 0. 0. 0. 0. 0. 0. 0. 0. 0. 0. 0. 0. 0. 0. 0. 0. 0. 0. 0. 0. 0. 0. 0. 0. 0. 0. 0. 0. 0. 0. 0. 0. 0. 0. 0. 0. 0. 0. 0. 0. 0. 0. 0. 0. 0. 0. 0. 0.]\n",
      "[0. 0. 0. 0. 0. 0. 0. 0. 0. 0. 0. 0. 0. 0. 0. 0. 0. 0. 0. 0. 0. 0. 0. 0. 0. 0. 0. 0. 0. 0. 0. 0. 0. 0. 0. 0. 0. 0. 0. 0. 0. 0. 0. 0. 0. 0. 0. 0. 0. 0. 0. 0. 0. 0. 0. 0. 0. 0. 0. 0. 0. 0. 0. 0. 0. 0.]\n",
      "cpp: 0.9017181396484375 ms\n",
      "python: 3.2898688316345215 ms\n",
      "[ 1.07260346e-07 -5.46337523e-07 -2.93153059e-07  1.05328854e-07 -9.58536832e-08  3.19750230e-13  2.83837231e-09 -1.57476663e-08 -7.70840235e-09  2.47135292e-09 -1.96700604e-09  9.10732850e-12  1.10588356e+02 -1.59105714e+02 -3.16827944e+02  1.14949573e+02 -9.49106263e+01  5.24650720e-01  2.11510679e-07 -1.07604677e-06 -5.77074695e-07  2.07586327e-07 -1.88741692e-07  6.07339272e-13  1.97393534e+00  3.19959455e+00 -6.25466779e+00  6.09427408e+00 -8.50642571e+00 -1.41911701e-02  2.76969975e+01 -1.19853377e+02 -7.15793515e+01  1.98260928e+01 -1.28892031e+01  4.36790825e-02  1.97396664e-02  3.19943659e-02 -6.25475306e-02  6.09430469e-02 -8.50645346e-02 -1.41911697e-04  2.31978180e+00  3.41081594e+00 -7.19368346e+00  6.36501766e+00 -8.67537894e+00 -1.25441650e-02 -4.29729934e+01 -6.55575030e+01  1.37623213e+02 -6.24162431e+01  5.87987238e+01 -3.73586703e-01  4.29375842e-02  6.61020300e-02 -1.34484636e-01  1.24593320e-01 -1.71818411e-01 -2.67353344e-04  1.41733891e+00  1.25499799e+00 -4.10032696e+00  1.42036581e+00 -1.12789676e+00  6.83389331e-03]\n",
      "[ 1.37669135e-05 -7.17049753e-05 -3.83518238e-05  1.35372045e-05 -1.24160274e-05  8.92328831e-12  3.61590149e-07 -2.14677811e-06 -9.72091955e-07  2.86585615e-07 -2.15465863e-07  1.60846424e-10  1.10606175e+02 -1.70975016e+02 -3.35384095e+02  1.19043758e+02 -1.00052481e+02  5.28492013e-01  2.73277964e-05 -1.42181201e-04 -7.60337302e-05  2.68483455e-05 -2.46321380e-05  1.14447686e-11  1.90287296e+00  3.34437552e+00 -6.66437955e+00  6.18783842e+00 -8.89784729e+00 -1.45545807e-02  2.85366929e+01 -1.27624367e+02 -7.58950564e+01  2.08270107e+01 -1.36519489e+01  4.40839505e-02  1.90694636e-02  3.32319886e-02 -6.67570450e-02  6.19183834e-02 -8.90151782e-02 -1.45545797e-04  2.23968349e+00  3.56082976e+00 -7.65484940e+00  6.46786346e+00 -9.07573486e+00 -1.28771671e-02 -4.16211135e+01 -6.85356874e+01  1.45410899e+02 -6.40460594e+01  6.17852885e+01 -3.75786613e-01  4.14795725e-02  6.87713971e-02 -1.43342405e-01  1.26610043e-01 -1.79784481e-01 -2.74317468e-04  1.37891168e+00  1.29887411e+00 -4.32697452e+00  1.46688090e+00 -1.18889140e+00  6.88262213e-03]\n",
      "14\n"
     ]
    },
    {
     "data": {
      "text/plain": [
       "np.float64(26.33372264113626)"
      ]
     },
     "execution_count": 8,
     "metadata": {},
     "output_type": "execute_result"
    }
   ],
   "source": [
    "import numpy as np\n",
    "from pinocchio_template import thneed\n",
    "import time\n",
    "import sys\n",
    "sys.path.append('/Users/emreadabag/code/sqpcpu/build')\n",
    "import pysqpcpu\n",
    "\n",
    "\n",
    "qpiters = 5\n",
    "N = 4\n",
    "dt = 0.01\n",
    "\n",
    "pyt = pysqpcpu.Thneed(\"/Users/emreadabag/code/indy-ros2/indy_description/urdf_files/indy7.urdf\", N=N, dt=dt, max_qp_iters=qpiters)\n",
    "t = thneed(N=N, dt=dt, max_qp_iters=qpiters)\n",
    "# pyt.XU = np.ones(pyt.traj_len)\n",
    "# t.XU = np.ones(t.traj_len)\n",
    "\n",
    "print(pyt.XU)\n",
    "print(t.XU)\n",
    "\n",
    "xs = np.zeros(t.nx)  # Initial state\n",
    "eepos_g = np.ones(3 * t.N)  # End-effector position goals\n",
    "pyt.setxs(xs)\n",
    "t.setxs(xs)\n",
    "\n",
    "num_iters = 100\n",
    "# Run SQP optimization\n",
    "start = time.time()\n",
    "for i in range(num_iters):\n",
    "    pyt.sqp(xs, eepos_g)\n",
    "end = time.time()\n",
    "print(f\"cpp: {1000*(end - start)/num_iters} ms\")\n",
    "start = time.time()\n",
    "for i in range(num_iters):\n",
    "    t.sqp(xs, eepos_g)\n",
    "end = time.time()\n",
    "print(f\"python: {1000*(end - start)/num_iters} ms\")\n",
    "\n",
    "print(pyt.XU)\n",
    "print(t.XU)\n",
    "print(np.argmax(np.abs(pyt.XU - t.XU)))\n",
    "np.linalg.norm(pyt.XU - t.XU)"
   ]
  },
  {
   "cell_type": "code",
   "execution_count": null,
   "metadata": {},
   "outputs": [],
   "source": []
  },
  {
   "cell_type": "code",
   "execution_count": null,
   "metadata": {},
   "outputs": [],
   "source": []
  }
 ],
 "metadata": {
  "kernelspec": {
   "display_name": "sqpcpu",
   "language": "python",
   "name": "python3"
  },
  "language_info": {
   "codemirror_mode": {
    "name": "ipython",
    "version": 3
   },
   "file_extension": ".py",
   "mimetype": "text/x-python",
   "name": "python",
   "nbconvert_exporter": "python",
   "pygments_lexer": "ipython3",
   "version": "3.12.0"
  }
 },
 "nbformat": 4,
 "nbformat_minor": 2
}
