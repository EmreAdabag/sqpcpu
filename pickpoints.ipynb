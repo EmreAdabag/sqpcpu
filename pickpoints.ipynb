{
 "cells": [
  {
   "cell_type": "code",
   "execution_count": 2,
   "metadata": {},
   "outputs": [],
   "source": [
    "import numpy as np"
   ]
  },
  {
   "cell_type": "code",
   "execution_count": 6,
   "metadata": {},
   "outputs": [],
   "source": [
    "allpoints = np.load('points/pointstake3.npy')\n",
    "allconfigs = np.load('points/configs3.npy')\n",
    "allpoints[0] = [ 1.51468898e-10, -1.86500000e-01,  1.32750000e+00]\n",
    "allconfigs[0] = np.zeros(6)"
   ]
  },
  {
   "cell_type": "code",
   "execution_count": 7,
   "metadata": {},
   "outputs": [],
   "source": [
    "np.save('points/points10.npy', allpoints[:10])\n",
    "np.save('points/configs10.npy', allconfigs[:10])\n",
    "np.save('points/points100.npy', allpoints[:100])\n",
    "np.save('points/configs100.npy', allconfigs[:100])\n",
    "np.save('points/points1000.npy', allpoints[:1000])\n",
    "np.save('points/configs1000.npy', allconfigs[:1000])\n",
    "np.save('points/points5k.npy', allpoints[:5000])\n",
    "np.save('points/configs5k.npy', allconfigs[:5000])"
   ]
  },
  {
   "cell_type": "code",
   "execution_count": null,
   "metadata": {},
   "outputs": [],
   "source": []
  }
 ],
 "metadata": {
  "kernelspec": {
   "display_name": "venv",
   "language": "python",
   "name": "python3"
  },
  "language_info": {
   "codemirror_mode": {
    "name": "ipython",
    "version": 3
   },
   "file_extension": ".py",
   "mimetype": "text/x-python",
   "name": "python",
   "nbconvert_exporter": "python",
   "pygments_lexer": "ipython3",
   "version": "3.10.12"
  }
 },
 "nbformat": 4,
 "nbformat_minor": 2
}
