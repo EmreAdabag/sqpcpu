{
 "cells": [
  {
   "cell_type": "code",
   "execution_count": 1,
   "metadata": {},
   "outputs": [
    {
     "name": "stderr",
     "output_type": "stream",
     "text": [
      "pybullet build time: Jan 29 2025 23:16:28\n"
     ]
    },
    {
     "name": "stdout",
     "output_type": "stream",
     "text": [
      "startThreads creating 1 threads.\n",
      "starting thread 0\n",
      "started thread 0 \n",
      "argc=2\n",
      "argv[0] = --unused\n",
      "argv[1] = --start_demo_name=Physics Server\n",
      "ExampleBrowserThreadFunc started\n",
      "X11 functions dynamically loaded using dlopen/dlsym OK!\n",
      "X11 functions dynamically loaded using dlopen/dlsym OK!\n",
      "Creating context\n",
      "Created GL 3.3 context\n",
      "Direct GLX rendering context obtained\n",
      "Making context current\n",
      "GL_VENDOR=NVIDIA Corporation\n",
      "GL_RENDERER=NVIDIA GeForce RTX 3080/PCIe/SSE2\n",
      "GL_VERSION=3.3.0 NVIDIA 535.183.01\n",
      "GL_SHADING_LANGUAGE_VERSION=3.30 NVIDIA via Cg compiler\n",
      "pthread_getconcurrency()=0\n",
      "Version = 3.3.0 NVIDIA 535.183.01\n",
      "Vendor = NVIDIA Corporation\n",
      "Renderer = NVIDIA GeForce RTX 3080/PCIe/SSE2\n",
      "b3Printf: Selected demo: Physics Server\n",
      "startThreads creating 1 threads.\n",
      "starting thread 0\n",
      "started thread 0 \n",
      "MotionThreadFunc thread started\n"
     ]
    },
    {
     "name": "stdout",
     "output_type": "stream",
     "text": [
      "ven = NVIDIA Corporation\n",
      "ven = NVIDIA Corporation\n"
     ]
    }
   ],
   "source": [
    "import pybullet as p\n",
    "import pybullet_data\n",
    "import time\n",
    "import math\n",
    "import numpy as np\n",
    "from pinocchio_template import thneed\n",
    "\n",
    "# Connect to the physics server\n",
    "physicsClient = p.connect(p.GUI)\n",
    "p.resetDebugVisualizerCamera(cameraDistance=2.0, cameraYaw=0, cameraPitch=-30, cameraTargetPosition=[0,0,0])"
   ]
  },
  {
   "cell_type": "code",
   "execution_count": 2,
   "metadata": {},
   "outputs": [
    {
     "name": "stdout",
     "output_type": "stream",
     "text": [
      "b3Printf: b3Warning[examples/Importers/ImportURDFDemo/BulletUrdfImporter.cpp,126]:\n",
      "\n",
      "b3Printf: No inertial data for link, using mass=1, localinertiadiagonal = 1,1,1, identity local inertial frame\n",
      "b3Printf: b3Warning[examples/Importers/ImportURDFDemo/BulletUrdfImporter.cpp,126]:\n",
      "\n",
      "b3Printf: tcp\n",
      "Number of joints: 8\n",
      "Joint 0, Name: global, Type: 4\n",
      "Joint 1, Name: joint0, Type: 0\n",
      "Joint 2, Name: joint1, Type: 0\n",
      "Joint 3, Name: joint2, Type: 0\n",
      "Joint 4, Name: joint3, Type: 0\n",
      "Joint 5, Name: joint4, Type: 0\n",
      "Joint 6, Name: joint5, Type: 0\n",
      "Joint 7, Name: tcp, Type: 4\n",
      "osqp warm starting: False\n"
     ]
    },
    {
     "ename": "",
     "evalue": "",
     "output_type": "error",
     "traceback": [
      "\u001b[1;31mThe Kernel crashed while executing code in the current cell or a previous cell. \n",
      "\u001b[1;31mPlease review the code in the cell(s) to identify a possible cause of the failure. \n",
      "\u001b[1;31mClick <a href='https://aka.ms/vscodeJupyterKernelCrash'>here</a> for more info. \n",
      "\u001b[1;31mView Jupyter <a href='command:jupyter.viewOutput'>log</a> for further details."
     ]
    }
   ],
   "source": [
    "friction_thing_N = 0\n",
    "disable_velocity_control = False\n",
    "\n",
    "# Set up the environment\n",
    "p.setAdditionalSearchPath(pybullet_data.getDataPath())\n",
    "p.setGravity(0, 0, -9.81)\n",
    "planeId = p.loadURDF(\"/home/a2rlab/Documents/bullet3/data/plane.urdf\")\n",
    "\n",
    "# Load the URDF model\n",
    "# Replace \"your_model.urdf\" with the path to your URDF file\n",
    "# If using a model from pybullet_data, you can use its name directly\n",
    "# robotId = p.loadURDF(\"/home/a2rlab/Documents/bullet3/examples/pybullet/gym/pybullet_data/franka_panda/panda.urdf\", [0, 0, 0], useFixedBase=1)\n",
    "robotId = p.loadURDF(\"/home/a2rlab/Documents/emre/indy-ros2/indy_description/urdf_files/indy7_nolimits.urdf\", [0, 0, 0], useFixedBase=1, flags=p.URDF_USE_INERTIA_FROM_FILE)\n",
    "\n",
    "num_joints = p.getNumJoints(robotId)\n",
    "print(f\"Number of joints: {num_joints}\")\n",
    "\n",
    "# Print joint info\n",
    "for i in range(num_joints):\n",
    "    joint_info = p.getJointInfo(robotId, i)\n",
    "    print(f\"Joint {i}, Name: {joint_info[1].decode('utf-8')}, Type: {joint_info[2]}\")\n",
    "\n",
    "if disable_velocity_control:\n",
    "    p.setJointMotorControlArray(bodyIndex=robotId,\n",
    "                            jointIndices=[i for i in range(num_joints)],\n",
    "                            controlMode=p.VELOCITY_CONTROL,\n",
    "                            forces=friction_thing_N*np.ones(num_joints))\n",
    "\n",
    "sim_timestep = 0.01\n",
    "solve_timestep = 0.01\n",
    "p.setTimeStep(sim_timestep) # Default is 1/240 seconds\n",
    "\n",
    "# max_torque = 1000\n",
    "t = thneed(dt=solve_timestep)\n",
    "t.max_qp_iters = 5\n",
    "t.R_cost = 0\n",
    "t.dQ_cost = 0\n",
    "xs = 0.2 * np.hstack([np.ones(6), np.zeros(6)])\n",
    "for i in range(1,7):\n",
    "    p.resetJointState(robotId, i, xs[i-1], 0)\n",
    "# goal = np.array([-2.30313706e-01, -1.23076760e-01,  6.17299293e-02])\n",
    "# goal = np.array([ 1.51468905e-10, -1.86500000e-01,  1.26750000e+00]) # p sure this is 0\n",
    "goal = t.eepos(0.2 * np.ones(6))\n",
    "goal_tile = np.tile(goal, t.N).T\n",
    "\n",
    "all_xs = []\n",
    "all_ctrl = []\n",
    "\n",
    "o = 0\n",
    "fails = 0\n",
    "for i in range(300):\n",
    "    all_xs.append(np.array(xs))\n",
    "    # print(np.linalg.norm(t.eepos(xs[:6]) - goal))\n",
    "    \n",
    "    # t.clean_start()\n",
    "    # t.shift_start()\n",
    "    # t.XU[:t.nx] = xs\n",
    "\n",
    "    t.XU = np.zeros(t.traj_len)\n",
    "    for i in range(t.N):\n",
    "        t.XU[i*t.nxu:i*t.nxu + t.nx] = xs\n",
    "\n",
    "    if t.sqp(xs, goal_tile):\n",
    "        fails +=1\n",
    "        if fails==t.N-1:\n",
    "            raise Exception(\"ran out of traj to track\")\n",
    "    else:\n",
    "        fails = 0\n",
    "    \n",
    "    trqs = t.XU[o*t.nxu+t.nx:o*t.nxu+t.nxu]\n",
    "    all_ctrl.append(trqs)\n",
    "\n",
    "    o = 1\n",
    "    print(t.XU[o*t.nxu:o*t.nxu+t.nq])\n",
    "    p.setJointMotorControlArray(bodyIndex=robotId,\n",
    "                                jointIndices=[i for i in range(1,7)],\n",
    "                                controlMode=p.POSITION_CONTROL,\n",
    "                                targetPositions=t.XU[o*t.nxu:o*t.nxu+t.nq],\n",
    "                                # targetVelocities=t.XU[o*t.nxu+t.nq:o*t.nxu+t.nx],\n",
    "                                forces=[1e5 for _ in range(6)]\n",
    "                                )\n",
    "    # p.setJointMotorControlArray(bodyIndex=robotId,\n",
    "    #                         jointIndices=[i for i in range(1,7)],\n",
    "    #                         controlMode=p.TORQUE_CONTROL,\n",
    "    #                         forces=trqs)\n",
    "    \n",
    "    \n",
    "    # Step the simulation forward\n",
    "    for i in range(int(solve_timestep / sim_timestep)):\n",
    "        p.stepSimulation()\n",
    "        time.sleep(sim_timestep)\n",
    "    \n",
    "\n",
    "    joint_states = p.getJointStates(robotId, [i for i in range(1,7)])\n",
    "    q = [j[0] for j in joint_states]\n",
    "    v = [j[1] for j in joint_states]\n",
    "    torques_applied = [j[3] for j in joint_states] # this is zeroed for torque control\n",
    "\n",
    "    # q_rk4, v_rk4 = t.rk4(xs[:t.nq], xs[t.nq:t.nx], trqs, t.dt)\n",
    "    # print(q - q_rk4, v - v_rk4)\n",
    "\n",
    "    xs[:t.nq] = q\n",
    "    xs[t.nq:t.nx] = v\n",
    "\n",
    "    # print(xs - XU[t.nxu:t.nxu+t.nx])\n",
    "\n",
    "# Disconnect from the physics server\n",
    "p.disconnect()"
   ]
  },
  {
   "cell_type": "code",
   "execution_count": null,
   "metadata": {},
   "outputs": [],
   "source": []
  },
  {
   "cell_type": "code",
   "execution_count": null,
   "metadata": {},
   "outputs": [],
   "source": [
    "all_xs = np.array(all_xs)\n",
    "all_ctrl = np.array(all_ctrl)"
   ]
  },
  {
   "cell_type": "code",
   "execution_count": null,
   "metadata": {},
   "outputs": [
    {
     "name": "stdout",
     "output_type": "stream",
     "text": [
      "[0.20000139 0.20000363 0.19999881 0.20001936 0.20000196 0.20002465 1.93187561 1.98856008 1.75301632 1.95357223 1.90464582 1.93466422]\n",
      "[5.40232931e+01 1.40227215e+02 1.00048993e+02 5.20932166e+01 4.89738044e+01 1.11987241e-01]\n"
     ]
    }
   ],
   "source": [
    "print(np.max(all_xs, axis=0) - np.min(all_xs, axis=0))\n",
    "print(np.max(all_ctrl, axis=0) - np.min(all_ctrl, axis=0))"
   ]
  },
  {
   "cell_type": "code",
   "execution_count": null,
   "metadata": {},
   "outputs": [
    {
     "name": "stdout",
     "output_type": "stream",
     "text": [
      "0.0038932030728122914\n"
     ]
    },
    {
     "data": {
      "text/plain": [
       "897"
      ]
     },
     "execution_count": 5,
     "metadata": {},
     "output_type": "execute_result"
    }
   ],
   "source": [
    "print(sum(t.stats['linesearch_alphas']['values']) / len(t.stats['linesearch_alphas']['values']))\n",
    "len([a for a in t.stats['linesearch_alphas']['values'] if a==0.0])"
   ]
  },
  {
   "cell_type": "code",
   "execution_count": null,
   "metadata": {},
   "outputs": [
    {
     "data": {
      "text/plain": [
       "array([[-7.31161161e+01,  4.90501498e+01,  1.62344348e+02, -6.63958049e+01,  5.84967972e+01, -1.67951990e-01],\n",
       "       [-1.90928230e+01,  1.19839469e+02,  6.22953544e+01, -1.43025883e+01,  9.52299283e+00, -5.67391137e-02],\n",
       "       [-1.99523946e+01,  1.16357223e+02,  6.23337545e+01, -1.50379961e+01,  1.02247291e+01, -5.59647483e-02],\n",
       "       ...,\n",
       "       [-1.95679512e+01,  1.20859509e+02,  6.30345330e+01, -1.46166194e+01,  9.67673787e+00, -5.88781750e-02],\n",
       "       [-2.92903079e+01,  1.89277083e+02,  9.96494862e+01, -2.31377131e+01,  1.60361078e+01, -8.11227942e-02],\n",
       "       [-1.95679523e+01,  1.20859518e+02,  6.30345374e+01, -1.46166201e+01,  9.67673837e+00, -5.88781773e-02]])"
      ]
     },
     "execution_count": 6,
     "metadata": {},
     "output_type": "execute_result"
    }
   ],
   "source": [
    "all_ctrl"
   ]
  },
  {
   "cell_type": "code",
   "execution_count": null,
   "metadata": {},
   "outputs": [],
   "source": []
  }
 ],
 "metadata": {
  "kernelspec": {
   "display_name": "usr",
   "language": "python",
   "name": "python3"
  },
  "language_info": {
   "codemirror_mode": {
    "name": "ipython",
    "version": 3
   },
   "file_extension": ".py",
   "mimetype": "text/x-python",
   "name": "python",
   "nbconvert_exporter": "python",
   "pygments_lexer": "ipython3",
   "version": "3.10.12"
  }
 },
 "nbformat": 4,
 "nbformat_minor": 2
}
