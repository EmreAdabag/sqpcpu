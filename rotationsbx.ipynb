{
 "cells": [
  {
   "cell_type": "code",
   "execution_count": 2,
   "metadata": {},
   "outputs": [],
   "source": [
    "import numpy as np"
   ]
  },
  {
   "cell_type": "code",
   "execution_count": 3,
   "metadata": {},
   "outputs": [],
   "source": [
    "point = np.array([0., -.1865, 1.328])"
   ]
  },
  {
   "cell_type": "code",
   "execution_count": 11,
   "metadata": {},
   "outputs": [
    {
     "name": "stdout",
     "output_type": "stream",
     "text": [
      "[[ 0.         -1.          0.        ]\n",
      " [ 0.99028227  0.         -0.13907202]\n",
      " [ 0.13907202  0.          0.99028227]]\n"
     ]
    }
   ],
   "source": [
    "# Normalize input vector (z-axis in new frame)\n",
    "z_axis = point / np.linalg.norm(point)\n",
    "\n",
    "# Find perpendicular vector (y-axis in new frame)\n",
    "ref = np.array([0., 1., 0.]) if not np.isclose(np.abs(z_axis.dot(np.array([0., 1., 0.]))), 1.0) else np.array([1., 0., 0.])\n",
    "y_axis = np.cross(z_axis, ref)\n",
    "y_axis = y_axis / np.linalg.norm(y_axis)\n",
    "\n",
    "# Find third perpendicular vector (x-axis in new frame)\n",
    "x_axis = np.cross(y_axis, z_axis)\n",
    "x_axis = x_axis / np.linalg.norm(x_axis)\n",
    "\n",
    "# Construct rotation matrix\n",
    "rotation_matrix = np.column_stack([x_axis, y_axis, z_axis])\n",
    "print(rotation_matrix)"
   ]
  }
 ],
 "metadata": {
  "kernelspec": {
   "display_name": "venv",
   "language": "python",
   "name": "python3"
  },
  "language_info": {
   "codemirror_mode": {
    "name": "ipython",
    "version": 3
   },
   "file_extension": ".py",
   "mimetype": "text/x-python",
   "name": "python",
   "nbconvert_exporter": "python",
   "pygments_lexer": "ipython3",
   "version": "3.10.12"
  }
 },
 "nbformat": 4,
 "nbformat_minor": 2
}
