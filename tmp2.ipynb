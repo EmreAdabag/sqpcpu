{
 "cells": [
  {
   "cell_type": "code",
   "execution_count": 5,
   "metadata": {},
   "outputs": [
    {
     "name": "stdout",
     "output_type": "stream",
     "text": [
      "osqp warm starting: False\n",
      "[1. 1. 1. 1. 1. 1. 1. 1. 1. 1. 1. 1. 1. 1. 1. 1. 1. 1. 1. 1. 1. 1. 1. 1. 1. 1. 1. 1. 1. 1. 1. 1. 1. 1. 1. 1. 1. 1. 1. 1. 1. 1. 1. 1. 1. 1. 1. 1. 1. 1. 1. 1. 1. 1. 1. 1. 1. 1. 1. 1. 1. 1. 1. 1. 1. 1.]\n",
      "[1. 1. 1. 1. 1. 1. 1. 1. 1. 1. 1. 1. 1. 1. 1. 1. 1. 1. 1. 1. 1. 1. 1. 1. 1. 1. 1. 1. 1. 1. 1. 1. 1. 1. 1. 1. 1. 1. 1. 1. 1. 1. 1. 1. 1. 1. 1. 1. 1. 1. 1. 1. 1. 1. 1. 1. 1. 1. 1. 1. 1. 1. 1. 1. 1. 1.]\n",
      "cpp: 1.155259609222412 ms\n",
      "python: 3.881978988647461 ms\n",
      "[ 1.00000000e+00  1.00000000e+00  1.00000000e+00  1.00000000e+00  1.00000000e+00  1.00000000e+00  1.00000000e+00  1.00000000e+00  1.00000000e+00  1.00000000e+00  1.00000000e+00  1.00000000e+00  6.23536387e+01 -1.36906597e+02  1.49151894e+02 -7.57149112e+01  7.54003210e+01 -9.65368931e-02  1.01000000e+00  1.01000000e+00  1.01000000e+00  1.01000000e+00  1.01000000e+00  1.01000000e+00  4.42278514e-01 -2.40926538e-01  3.69724676e+00 -2.85278471e+00  1.04970369e+01  2.27417586e-03  3.39522935e+01 -5.06931552e+01  2.88362975e+01 -9.61477143e+00  8.03632970e+00  4.45248845e-02  1.01442279e+00  1.00759074e+00  1.04697247e+00  9.81472155e-01  1.11497037e+00  1.01002274e+00  5.25770636e-01 -4.74310135e-01  4.69078978e+00 -3.07153624e+00  1.03705003e+01  1.63649591e-03  4.46133309e+00  2.69011763e+01 -7.88489330e+01  3.66001007e+01 -5.86836350e+01  4.27370850e-02  1.01968049e+00  1.00284764e+00  1.09388037e+00  9.50756793e-01  1.21867537e+00  1.01003911e+00  1.03191346e+00  5.46191329e-02  4.01305519e+00 -1.37854196e+00  7.76589525e-01  1.80226306e-03]\n",
      "[ 1.00000000e+00  1.00000000e+00  1.00000000e+00  1.00000000e+00  1.00000000e+00  1.00000000e+00  1.00000000e+00  1.00000000e+00  1.00000000e+00  1.00000000e+00  1.00000000e+00  1.00000000e+00  6.54975966e+01 -1.42650161e+02  1.55282114e+02 -7.88637386e+01  7.84150687e+01 -9.83347520e-02  1.01000000e+00  1.01000000e+00  1.01000000e+00  1.01000000e+00  1.01000000e+00  1.01000000e+00  4.21081125e-01 -2.98847522e-01  3.81171339e+00 -3.01131285e+00  1.08685758e+01  2.38340976e-03  3.56020444e+01 -5.29109277e+01  3.03211273e+01 -1.00180660e+01  8.29121647e+00  4.71082530e-02  1.01421081e+00  1.00701153e+00  1.04811714e+00  9.79886873e-01  1.11868576e+00  1.01002384e+00  5.10398771e-01 -5.50728588e-01  4.85829602e+00 -3.23146758e+00  1.07134957e+01  1.66976244e-03  4.67164212e+00  2.79888917e+01 -8.23113506e+01  3.84705896e+01 -6.07011826e+01  4.51826662e-02  1.01931480e+00  1.00150424e+00  1.09670010e+00  9.47572198e-01  1.22582072e+00  1.01004053e+00  1.03734320e+00 -1.24292549e-03  4.14844305e+00 -1.43802619e+00  8.01224611e-01  1.98868238e-03]\n",
      "14\n"
     ]
    },
    {
     "data": {
      "text/plain": [
       "np.float64(11.432279769950629)"
      ]
     },
     "execution_count": 5,
     "metadata": {},
     "output_type": "execute_result"
    }
   ],
   "source": [
    "import numpy as np\n",
    "from pinocchio_template import thneed\n",
    "import time\n",
    "import sys\n",
    "sys.path.append('/Users/emreadabag/code/sqpcpu/build')\n",
    "import pysqpcpu\n",
    "\n",
    "\n",
    "qpiters = 5\n",
    "N = 4\n",
    "dt = 0.01\n",
    "\n",
    "pyt = pysqpcpu.Thneed(\"/Users/emreadabag/code/indy-ros2/indy_description/urdf_files/indy7.urdf\", N=N, dt=dt, max_qp_iters=qpiters)\n",
    "t = thneed(N=N, dt=dt, max_qp_iters=qpiters)\n",
    "pyt.XU = np.ones(pyt.traj_len)\n",
    "t.XU = np.ones(t.traj_len)\n",
    "\n",
    "print(pyt.XU)\n",
    "print(t.XU)\n",
    "\n",
    "xs = np.ones(t.nx)  # Initial state\n",
    "eepos_g = np.ones(3 * t.N)  # End-effector position goals\n",
    "pyt.setxs(xs)\n",
    "t.setxs(xs)\n",
    "\n",
    "num_iters = 100\n",
    "# Run SQP optimization\n",
    "start = time.time()\n",
    "for i in range(num_iters):\n",
    "    pyt.sqp(xs, eepos_g)\n",
    "end = time.time()\n",
    "print(f\"cpp: {1000*(end - start)/num_iters} ms\")\n",
    "start = time.time()\n",
    "for i in range(num_iters):\n",
    "    t.sqp(xs, eepos_g)\n",
    "end = time.time()\n",
    "print(f\"python: {1000*(end - start)/num_iters} ms\")\n",
    "\n",
    "print(pyt.XU)\n",
    "print(t.XU)\n",
    "print(np.argmax(np.abs(pyt.XU - t.XU)))\n",
    "np.linalg.norm(pyt.XU - t.XU)"
   ]
  },
  {
   "cell_type": "code",
   "execution_count": null,
   "metadata": {},
   "outputs": [],
   "source": []
  },
  {
   "cell_type": "code",
   "execution_count": null,
   "metadata": {},
   "outputs": [],
   "source": []
  }
 ],
 "metadata": {
  "kernelspec": {
   "display_name": "sqpcpu",
   "language": "python",
   "name": "python3"
  },
  "language_info": {
   "codemirror_mode": {
    "name": "ipython",
    "version": 3
   },
   "file_extension": ".py",
   "mimetype": "text/x-python",
   "name": "python",
   "nbconvert_exporter": "python",
   "pygments_lexer": "ipython3",
   "version": "3.12.0"
  }
 },
 "nbformat": 4,
 "nbformat_minor": 2
}
