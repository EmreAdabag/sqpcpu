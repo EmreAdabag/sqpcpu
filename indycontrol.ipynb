{
 "cells": [
  {
   "cell_type": "code",
   "execution_count": 1,
   "metadata": {},
   "outputs": [],
   "source": [
    "from neuromeka import EtherCAT\n",
    "import time\n",
    "import math"
   ]
  },
  {
   "cell_type": "code",
   "execution_count": 2,
   "metadata": {},
   "outputs": [],
   "source": [
    "ip = '160.39.102.105'\n",
    "ecat = EtherCAT(ip)"
   ]
  },
  {
   "cell_type": "code",
   "execution_count": 235,
   "metadata": {},
   "outputs": [],
   "source": [
    "servos = [\n",
    "    {\"index\": 0, \"direction\": -1, \"gear_ratio\": 121, \"ppr\": 65536, \"max_ecat_torque\": 48.0, \"rated_torque\": 0.08839, \"version\":  \"\", \"correction_rad\": -0.054279739737023644},\n",
    "    {\"index\": 1, \"direction\": -1, \"gear_ratio\": 121, \"ppr\": 65536, \"max_ecat_torque\": 48.0, \"rated_torque\": 0.0839705, \"version\":  \"\", \"correction_rad\": -0.013264502315156903},\n",
    "    {\"index\": 2, \"direction\": 1, \"gear_ratio\": 121, \"ppr\": 65536, \"max_ecat_torque\": 96.0, \"rated_torque\": 0.0891443, \"version\":  \"\", \"correction_rad\": 2.794970264143719},\n",
    "    {\"index\": 3, \"direction\": -1, \"gear_ratio\": 101, \"ppr\": 65536, \"max_ecat_torque\": 96.0, \"rated_torque\": 0.05798, \"version\":  \"\", \"correction_rad\": -0.0054105206811824215},\n",
    "    {\"index\": 4, \"direction\": -1, \"gear_ratio\": 101, \"ppr\": 65536, \"max_ecat_torque\": 96.0, \"rated_torque\": 0.055081, \"version\":  \"\", \"correction_rad\": 2.7930504019665254},\n",
    "    {\"index\": 5, \"direction\": -1, \"gear_ratio\": 101, \"ppr\": 65536, \"max_ecat_torque\": 96.0, \"rated_torque\": 0.05798, \"version\":  \"\", \"correction_rad\": -0.03490658503988659}\n",
    "]\n",
    "min_torques = [240, 600, 250, 180, 140, 40] # empirical min torques to move each joint at max load\n",
    "min_pos_deg = [-175.0, -175.0, -175.0, -175.0, -175.0, -215.0]\n",
    "max_pos_deg = [ 175.0, 175.0, 175.0, 175.0, 175.0, 215.0]\n",
    "min_pos_rad = [min_pos_deg[i] * math.pi / 180 for i in range(6)]\n",
    "max_pos_rad = [max_pos_deg[i] * math.pi / 180 for i in range(6)]"
   ]
  },
  {
   "cell_type": "code",
   "execution_count": 4,
   "metadata": {},
   "outputs": [
    {
     "name": "stdout",
     "output_type": "stream",
     "text": [
      "Master status:  OP\n",
      "Slave status:  ['OP', 'OP', 'OP', 'OP', 'OP', 'OP', 'OP', 'OP']\n",
      "TxPDO domain:  COMPLETE\n",
      "RxPDO domain:  COMPLETE\n",
      "System ready:  [False, False, False, False, False, False]\n",
      "Servo state:  [False, False, False, False, False, False]\n",
      "\n",
      "num_servo: 6\n",
      "num_ioboard: 1\n",
      "num_endtool: 1\n",
      "\n"
     ]
    }
   ],
   "source": [
    "print(\"Master status: \", ecat.get_master_status())\n",
    "print(\"Slave status: \", ecat.get_slave_status())\n",
    "print(\"TxPDO domain: \", ecat.get_txdomain_status())\n",
    "print(\"RxPDO domain: \", ecat.get_rxdomain_status())\n",
    "print(\"System ready: \", ecat.is_system_ready())\n",
    "print(\"Servo state: \", ecat.is_servo_on())\n",
    "print(\"\")\n",
    "print(ecat.get_slave_type_num())\n",
    "num_servo = ecat.get_slave_type_num().num_servo"
   ]
  },
  {
   "cell_type": "code",
   "execution_count": null,
   "metadata": {},
   "outputs": [],
   "source": []
  },
  {
   "cell_type": "code",
   "execution_count": 256,
   "metadata": {},
   "outputs": [],
   "source": [
    "# ENABLE ALL SERVOS\n",
    "# ecat.set_servo(0, True)\n",
    "# ecat.set_servo(1, True)\n",
    "# ecat.set_servo(2, True)\n",
    "# ecat.set_servo(3, True)\n",
    "ecat.set_servo(4, True)\n",
    "# ecat.set_servo(5, True)\n"
   ]
  },
  {
   "cell_type": "code",
   "execution_count": 257,
   "metadata": {},
   "outputs": [],
   "source": [
    "# DISABLE ALL SERVOS\n",
    "ecat.set_servo(0, False)\n",
    "ecat.set_servo(1, False)\n",
    "ecat.set_servo(2, False)\n",
    "ecat.set_servo(3, False)\n",
    "ecat.set_servo(4, False)\n",
    "ecat.set_servo(5, False)"
   ]
  },
  {
   "cell_type": "code",
   "execution_count": 7,
   "metadata": {},
   "outputs": [
    {
     "name": "stdout",
     "output_type": "stream",
     "text": [
      "['READY_SWITCH', 'CST', 179747, 0, 1]\n",
      "['READY_SWITCH', 'CST', 170819, 0, -20]\n",
      "['READY_SWITCH', 'CST', -5891173, 0, 96]\n",
      "['READY_SWITCH', 'CST', -125075, 0, 56]\n",
      "['READY_SWITCH', 'CST', -2505216, 0, -107]\n",
      "['READY_SWITCH', 'CST', 247016, 0, -1]\n"
     ]
    }
   ],
   "source": [
    "# GET STATE OF ALL SERVOS\n",
    "for i in range(0, 6):\n",
    "    print(ecat.get_servo_tx(i))"
   ]
  },
  {
   "cell_type": "code",
   "execution_count": 140,
   "metadata": {},
   "outputs": [
    {
     "name": "stdout",
     "output_type": "stream",
     "text": [
      "0.18 rad\t10.07 deg\t-0.0 rad/s\n",
      "0.39 rad\t22.5 deg\t-0.0 rad/s\n",
      "-0.07 rad\t-3.78 deg\t0.0 rad/s\n",
      "0.54 rad\t31.06 deg\t-0.0 rad/s\n",
      "-0.14 rad\t-7.97 deg\t-0.0 rad/s\n",
      "0.0 rad\t0.02 deg\t-0.0 rad/s\n"
     ]
    }
   ],
   "source": [
    "# GET POSITIONS IN DEGREES\n",
    "for i in range(6):\n",
    "    ppr = servos[i][\"ppr\"]\n",
    "    gear_ratio = servos[i][\"gear_ratio\"]\n",
    "    pos, vel, tor = ecat.get_servo_tx(i)[2:5]\n",
    "    pos_rad = ((2 * math.pi * pos / gear_ratio / ppr) + servos[i][\"correction_rad\"]) * servos[i][\"direction\"]\n",
    "    vel_rad = 2 * math.pi *vel / gear_ratio / ppr * servos[i][\"direction\"]\n",
    "    pos_deg = pos_rad * 180 / math.pi\n",
    "    print(f'{round(pos_rad, 2)} rad\\t{round(pos_deg, 2)} deg\\t{round(vel_rad, 2)} rad/s')"
   ]
  },
  {
   "cell_type": "code",
   "execution_count": 10,
   "metadata": {},
   "outputs": [],
   "source": [
    "# MOVE SINGLE SERVO TO POSITION\n",
    "def goto(servo_idx, goal_position):\n",
    "    ppr = servos[servo_idx][\"ppr\"]\n",
    "    gear_ratio = servos[servo_idx][\"gear_ratio\"]\n",
    "    targetTorque = min_torques[servo_idx]\n",
    "    positive_start_pos = None\n",
    "\n",
    "    ecat.set_servo(servo_idx, True)\n",
    "    while 1:\n",
    "        pos, vel = ecat.get_servo_tx(servo_idx)[2:4]\n",
    "        pos_rad = ((2 * math.pi * pos / gear_ratio / ppr) + servos[servo_idx][\"correction_rad\"]) * servos[servo_idx][\"direction\"]\n",
    "\n",
    "        # break on sign change\n",
    "        if positive_start_pos is None:\n",
    "            positive_start_pos = pos_rad > goal_position\n",
    "        if positive_start_pos and pos_rad < goal_position or not positive_start_pos and pos_rad > goal_position:\n",
    "            break\n",
    "\n",
    "        # break on goal position\n",
    "        if abs(pos_rad - goal_position) < 0.001:\n",
    "            break\n",
    "\n",
    "        # break on min/max position\n",
    "        if pos_rad < min_pos_rad[servo_idx] + 0.01 or pos_rad > max_pos_rad[servo_idx] - 0.01:\n",
    "            break\n",
    "\n",
    "        # move to goal position\n",
    "        direction = servos[servo_idx][\"direction\"] if goal_position > pos_rad else -servos[servo_idx][\"direction\"]\n",
    "        ecat.set_servo_rx(servo_idx, 0x0f, 0x0a, 0, 0, targetTorque*direction)\n",
    "\n",
    "    # stop servo\n",
    "    ecat.set_servo_rx(servo_idx, 0x0f, 0x0a, 0, 0, 0)\n",
    "    ecat.set_servo(servo_idx, False)"
   ]
  },
  {
   "cell_type": "code",
   "execution_count": 282,
   "metadata": {},
   "outputs": [],
   "source": [
    "# DISABLE ALL SERVOS\n",
    "ecat.set_servo(0, False) \n",
    "ecat.set_servo(1, False)\n",
    "ecat.set_servo(2, False)\n",
    "ecat.set_servo(3, False)    \n",
    "ecat.set_servo(4, False)\n",
    "ecat.set_servo(5, False) "
   ]
  },
  {
   "cell_type": "code",
   "execution_count": 283,
   "metadata": {},
   "outputs": [],
   "source": [
    "# ZERO TORQUE ALL SERVOS\n",
    "for i in range(6):\n",
    "    ecat.set_servo(i, True)\n",
    "    ecat.set_servo_rx(i, 0x0f, 0x0a, 0, 0, 0)\n",
    "    ecat.set_servo(i, False)"
   ]
  },
  {
   "cell_type": "code",
   "execution_count": 284,
   "metadata": {},
   "outputs": [],
   "source": [
    "# Next 5 cells: start position"
   ]
  },
  {
   "cell_type": "code",
   "execution_count": 285,
   "metadata": {},
   "outputs": [],
   "source": [
    "goto(1, 0.3)"
   ]
  },
  {
   "cell_type": "code",
   "execution_count": 286,
   "metadata": {},
   "outputs": [],
   "source": [
    "goto(0,0)"
   ]
  },
  {
   "cell_type": "code",
   "execution_count": 287,
   "metadata": {},
   "outputs": [],
   "source": [
    "# goto(2, - 3 * math.pi / 4)\n",
    "goto(2, -(math.pi / 2) - 0.3)"
   ]
  },
  {
   "cell_type": "code",
   "execution_count": 288,
   "metadata": {},
   "outputs": [],
   "source": [
    "goto(3, 0)"
   ]
  },
  {
   "cell_type": "code",
   "execution_count": 289,
   "metadata": {},
   "outputs": [],
   "source": [
    "# goto(4,1.3)\n",
    "goto(4, 0)"
   ]
  },
  {
   "cell_type": "code",
   "execution_count": 252,
   "metadata": {},
   "outputs": [],
   "source": [
    "goto(5, 0)"
   ]
  },
  {
   "cell_type": "code",
   "execution_count": 11,
   "metadata": {},
   "outputs": [],
   "source": [
    "# OTHER STUFF"
   ]
  },
  {
   "cell_type": "code",
   "execution_count": 162,
   "metadata": {},
   "outputs": [
    {
     "name": "stdout",
     "output_type": "stream",
     "text": [
      "Temperature\n",
      "0 36.2548828125\n",
      "1 37.060546875\n",
      "2 40.36376953125\n",
      "3 41.4111328125\n",
      "4 43.3447265625\n",
      "5 43.74755859375\n",
      "Error code\n",
      "0 0x0\n",
      "1 0x0\n",
      "2 0x0\n",
      "3 0x0\n",
      "4 0x0\n",
      "5 0x0\n"
     ]
    }
   ],
   "source": [
    "print(\"Temperature\")    \n",
    "for i in range(0,6):\n",
    "    print(i, ecat.get_servo_temperature(i))\n",
    "    \n",
    "print(\"Error code\")    \n",
    "for i in range(0,6):    \n",
    "    print(i, hex(ecat.get_servo_errorcode(i)))"
   ]
  },
  {
   "cell_type": "code",
   "execution_count": 13,
   "metadata": {},
   "outputs": [
    {
     "data": {
      "text/plain": []
     },
     "execution_count": 13,
     "metadata": {},
     "output_type": "execute_result"
    }
   ],
   "source": [
    "ecat.set_brake(1, False)\n",
    "time.sleep(1)\n",
    "ecat.set_brake(1, True)"
   ]
  },
  {
   "cell_type": "code",
   "execution_count": 14,
   "metadata": {},
   "outputs": [
    {
     "name": "stdout",
     "output_type": "stream",
     "text": [
      "{'status': 0, 'button': 0, 'ft_sensor': , 'ft_state': 0, 'ft_error': 0}\n"
     ]
    },
    {
     "data": {
      "text/plain": [
       "{'eqc': 0,\n",
       " 'gripper': 0,\n",
       " 'ft_param': 0,\n",
       " 'led_mode': 0,\n",
       " 'led_g': 1,\n",
       " 'led_r': 1,\n",
       " 'led_b': 1}"
      ]
     },
     "execution_count": 14,
     "metadata": {},
     "output_type": "execute_result"
    }
   ],
   "source": [
    "print(ecat.get_endtool_tx())\n",
    "ecat.get_endtool_rx()"
   ]
  },
  {
   "cell_type": "code",
   "execution_count": 15,
   "metadata": {},
   "outputs": [
    {
     "data": {
      "text/plain": []
     },
     "execution_count": 15,
     "metadata": {},
     "output_type": "execute_result"
    }
   ],
   "source": [
    "ecat.set_endtool_rx({\"eqc\": 0, \"gripper\": 0, \"ft_param\": 0, \"led_mode\": 0, \"led_g\": 1, \"led_r\": 1, \"led_b\": 1})"
   ]
  },
  {
   "cell_type": "code",
   "execution_count": null,
   "metadata": {},
   "outputs": [],
   "source": []
  },
  {
   "cell_type": "code",
   "execution_count": null,
   "metadata": {},
   "outputs": [],
   "source": []
  },
  {
   "cell_type": "code",
   "execution_count": null,
   "metadata": {},
   "outputs": [],
   "source": []
  },
  {
   "cell_type": "code",
   "execution_count": null,
   "metadata": {},
   "outputs": [],
   "source": []
  },
  {
   "cell_type": "code",
   "execution_count": null,
   "metadata": {},
   "outputs": [],
   "source": []
  },
  {
   "cell_type": "code",
   "execution_count": null,
   "metadata": {},
   "outputs": [],
   "source": []
  },
  {
   "cell_type": "code",
   "execution_count": null,
   "metadata": {},
   "outputs": [],
   "source": []
  },
  {
   "cell_type": "code",
   "execution_count": null,
   "metadata": {},
   "outputs": [],
   "source": []
  },
  {
   "cell_type": "code",
   "execution_count": null,
   "metadata": {},
   "outputs": [],
   "source": []
  },
  {
   "cell_type": "code",
   "execution_count": null,
   "metadata": {},
   "outputs": [],
   "source": []
  },
  {
   "cell_type": "code",
   "execution_count": null,
   "metadata": {},
   "outputs": [],
   "source": []
  },
  {
   "cell_type": "code",
   "execution_count": null,
   "metadata": {},
   "outputs": [],
   "source": []
  },
  {
   "cell_type": "code",
   "execution_count": null,
   "metadata": {},
   "outputs": [],
   "source": []
  },
  {
   "cell_type": "code",
   "execution_count": null,
   "metadata": {},
   "outputs": [],
   "source": []
  },
  {
   "cell_type": "code",
   "execution_count": null,
   "metadata": {},
   "outputs": [],
   "source": []
  },
  {
   "cell_type": "code",
   "execution_count": null,
   "metadata": {},
   "outputs": [],
   "source": []
  },
  {
   "cell_type": "code",
   "execution_count": null,
   "metadata": {},
   "outputs": [],
   "source": []
  },
  {
   "cell_type": "code",
   "execution_count": null,
   "metadata": {},
   "outputs": [],
   "source": []
  },
  {
   "cell_type": "code",
   "execution_count": null,
   "metadata": {},
   "outputs": [],
   "source": []
  },
  {
   "cell_type": "code",
   "execution_count": null,
   "metadata": {},
   "outputs": [],
   "source": []
  },
  {
   "cell_type": "code",
   "execution_count": null,
   "metadata": {},
   "outputs": [],
   "source": []
  },
  {
   "cell_type": "code",
   "execution_count": null,
   "metadata": {},
   "outputs": [],
   "source": []
  },
  {
   "cell_type": "code",
   "execution_count": null,
   "metadata": {},
   "outputs": [],
   "source": []
  },
  {
   "cell_type": "code",
   "execution_count": null,
   "metadata": {},
   "outputs": [],
   "source": []
  },
  {
   "cell_type": "code",
   "execution_count": null,
   "metadata": {},
   "outputs": [],
   "source": []
  },
  {
   "cell_type": "code",
   "execution_count": null,
   "metadata": {},
   "outputs": [],
   "source": []
  },
  {
   "cell_type": "code",
   "execution_count": null,
   "metadata": {},
   "outputs": [],
   "source": []
  },
  {
   "cell_type": "code",
   "execution_count": null,
   "metadata": {},
   "outputs": [],
   "source": []
  },
  {
   "cell_type": "code",
   "execution_count": null,
   "metadata": {},
   "outputs": [],
   "source": []
  },
  {
   "cell_type": "code",
   "execution_count": null,
   "metadata": {},
   "outputs": [],
   "source": []
  },
  {
   "cell_type": "code",
   "execution_count": null,
   "metadata": {},
   "outputs": [],
   "source": []
  },
  {
   "cell_type": "code",
   "execution_count": null,
   "metadata": {},
   "outputs": [],
   "source": []
  },
  {
   "cell_type": "code",
   "execution_count": null,
   "metadata": {},
   "outputs": [],
   "source": []
  },
  {
   "cell_type": "code",
   "execution_count": null,
   "metadata": {},
   "outputs": [],
   "source": []
  },
  {
   "cell_type": "code",
   "execution_count": null,
   "metadata": {},
   "outputs": [],
   "source": []
  },
  {
   "cell_type": "code",
   "execution_count": null,
   "metadata": {},
   "outputs": [],
   "source": []
  },
  {
   "cell_type": "code",
   "execution_count": null,
   "metadata": {},
   "outputs": [],
   "source": []
  },
  {
   "cell_type": "code",
   "execution_count": null,
   "metadata": {},
   "outputs": [],
   "source": []
  },
  {
   "cell_type": "code",
   "execution_count": null,
   "metadata": {},
   "outputs": [],
   "source": []
  },
  {
   "cell_type": "code",
   "execution_count": null,
   "metadata": {},
   "outputs": [],
   "source": []
  },
  {
   "cell_type": "code",
   "execution_count": null,
   "metadata": {},
   "outputs": [],
   "source": []
  },
  {
   "cell_type": "code",
   "execution_count": null,
   "metadata": {},
   "outputs": [],
   "source": []
  },
  {
   "cell_type": "code",
   "execution_count": null,
   "metadata": {},
   "outputs": [],
   "source": []
  },
  {
   "cell_type": "code",
   "execution_count": null,
   "metadata": {},
   "outputs": [],
   "source": []
  },
  {
   "cell_type": "code",
   "execution_count": null,
   "metadata": {},
   "outputs": [],
   "source": []
  },
  {
   "cell_type": "code",
   "execution_count": null,
   "metadata": {},
   "outputs": [],
   "source": []
  },
  {
   "cell_type": "code",
   "execution_count": null,
   "metadata": {},
   "outputs": [],
   "source": []
  },
  {
   "cell_type": "code",
   "execution_count": null,
   "metadata": {},
   "outputs": [],
   "source": []
  },
  {
   "cell_type": "code",
   "execution_count": null,
   "metadata": {},
   "outputs": [],
   "source": []
  },
  {
   "cell_type": "code",
   "execution_count": null,
   "metadata": {},
   "outputs": [],
   "source": []
  },
  {
   "cell_type": "code",
   "execution_count": null,
   "metadata": {},
   "outputs": [],
   "source": []
  },
  {
   "cell_type": "code",
   "execution_count": null,
   "metadata": {},
   "outputs": [],
   "source": []
  },
  {
   "cell_type": "code",
   "execution_count": null,
   "metadata": {},
   "outputs": [],
   "source": []
  },
  {
   "cell_type": "code",
   "execution_count": null,
   "metadata": {},
   "outputs": [],
   "source": [
    "\n"
   ]
  }
 ],
 "metadata": {
  "kernelspec": {
   "display_name": "venv",
   "language": "python",
   "name": "python3"
  },
  "language_info": {
   "codemirror_mode": {
    "name": "ipython",
    "version": 3
   },
   "file_extension": ".py",
   "mimetype": "text/x-python",
   "name": "python",
   "nbconvert_exporter": "python",
   "pygments_lexer": "ipython3",
   "version": "3.10.12"
  }
 },
 "nbformat": 4,
 "nbformat_minor": 2
}
